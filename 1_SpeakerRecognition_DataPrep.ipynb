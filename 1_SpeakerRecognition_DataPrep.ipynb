{
 "cells": [
  {
   "cell_type": "markdown",
   "metadata": {
    "colab_type": "text",
    "id": "u_zdfXRB9cIV"
   },
   "source": [
    "# Project - Speaker Recognition\n",
    "\n",
    "Team 9\n",
    "\n",
    "\n",
    "## Part 1 - Data Preparation\n",
    "\n",
    "In this assignment, we will use the DARPA TIMIT Acoustic-Phonetic Continuous Speech Corpus dataset available from Kaggle. https://www.kaggle.com/mfekadu/darpa-timit-acousticphonetic-continuous-speech\n",
    "\n",
    "This dataset contains a total of 6300 sentences, 10 sentences spoken by each of 630 speakers from 8 major dialect regions of the United States."
   ]
  },
  {
   "cell_type": "code",
   "execution_count": 0,
   "metadata": {
    "colab": {},
    "colab_type": "code",
    "id": "CIkBPxBE9cIa"
   },
   "outputs": [],
   "source": [
    "import pandas as pd\n",
    "import cv2\n",
    "import librosa\n",
    "import numpy as np\n",
    "from shutil import copy\n",
    "import os"
   ]
  },
  {
   "cell_type": "code",
   "execution_count": 0,
   "metadata": {
    "colab": {},
    "colab_type": "code",
    "id": "hWnwzZQA9cIk"
   },
   "outputs": [],
   "source": [
    "# Set the folder to point to the downloaded dataset,\n",
    "# and also the folder to where the processed data is saved\n",
    "#\n",
    "user_folder = os.path.expanduser(\"~\")\n",
    "train_csv = user_folder + \"/AIandMLNYP/AIProject/SpeakerRecognition/TIMIT/train_data.csv\"\n",
    "test_csv = user_folder + \"/AIandMLNYP/AIProject/SpeakerRecognition/TIMIT/test_data.csv\"\n",
    "audio_folder = user_folder + \"/AIandMLNYP/AIProject/SpeakerRecognition/TIMIT/Audio/\"\n",
    "input_folder = user_folder + \"/AIandMLNYP/AIProject/SpeakerRecognition/TIMIT/data/\""
   ]
  },
  {
   "cell_type": "markdown",
   "metadata": {
    "colab_type": "text",
    "id": "o0YPkVQp9cIt"
   },
   "source": [
    "# Copying WAV Files Into Our Custom Structure"
   ]
  },
  {
   "cell_type": "code",
   "execution_count": 0,
   "metadata": {
    "colab": {},
    "colab_type": "code",
    "id": "7JUGKoqP9cIv",
    "outputId": "2605fc90-3bfb-4103-8331-80cfe9f3845e"
   },
   "outputs": [
    {
     "name": "stdout",
     "output_type": "stream",
     "text": [
      "Copying train data...\n",
      "Copy complete.\n"
     ]
    }
   ],
   "source": [
    "#os.makedirs(output_folder, exist_ok=True)\n",
    "#os.makedirs(output_folder+'train', exist_ok=True)\n",
    "#os.makedirs(output_folder+'test', exist_ok=True)\n",
    "\n",
    "df_train = pd.read_csv(train_csv, nrows=23100)\n",
    "df_train = df_train[df_train['filename'].str.contains('.WAV.wav')]\n",
    "\n",
    "print(\"Copying train data...\")\n",
    "\n",
    "# Load up the CSV and copy only those \n",
    "# \n",
    "for index, row in df_train.iterrows():\n",
    "    # TODO:\n",
    "    # Inspect the data in the Pandas DataFrame to discover\n",
    "    # the filename, the label. Then copy the file from its\n",
    "    # source folder into the target folder above.\n",
    "    #\n",
    "    \n",
    "    dest_folder = audio_folder +'Train/'+row.speaker_id\n",
    "    if not os.path.exists(dest_folder):\n",
    "        os.makedirs(dest_folder)\n",
    "        \n",
    "    # for windows OS, use \"audio_folder,row.path_from_data_dir\"\n",
    "    copy(os.path.join(input_folder,row.path_from_data_dir),dest_folder) \n",
    "\n",
    "print(\"Copy complete.\")"
   ]
  },
  {
   "cell_type": "code",
   "execution_count": 0,
   "metadata": {
    "colab": {},
    "colab_type": "code",
    "id": "0PfyUKgY9cI_",
    "outputId": "f1a194c4-d1aa-4c6c-8925-c0c4c5d996a5"
   },
   "outputs": [
    {
     "name": "stdout",
     "output_type": "stream",
     "text": [
      "Copying test data...\n",
      "Copy complete.\n"
     ]
    }
   ],
   "source": [
    "df_test = pd.read_csv(test_csv, nrows=8400)\n",
    "df_test = df_test[df_test['filename'].str.contains('.WAV.wav')]\n",
    "\n",
    "print(\"Copying test data...\")\n",
    "\n",
    "# Load up the CSV and copy only those \n",
    "# \n",
    "for index, row in df_test.iterrows():\n",
    "    # TODO:\n",
    "    # Inspect the data in the Pandas DataFrame to discover\n",
    "    # the filename, the label. Then copy the file from its\n",
    "    # source folder into the target folder above.\n",
    "    #\n",
    "    \n",
    "    dest_folder = audio_folder+'Test/'+row.speaker_id\n",
    "    if not os.path.exists(dest_folder):\n",
    "        os.makedirs(dest_folder)\n",
    "        \n",
    "    # for windows OS, use \"audio_folder,row.path_from_data_dir\"\n",
    "    copy(os.path.join(input_folder,row.path_from_data_dir),dest_folder) \n",
    "\n",
    "print(\"Copy complete.\")"
   ]
  },
  {
   "cell_type": "code",
   "execution_count": 0,
   "metadata": {
    "colab": {},
    "colab_type": "code",
    "id": "AZ3gGRSM9cJH"
   },
   "outputs": [],
   "source": []
  }
 ],
 "metadata": {
  "colab": {
   "collapsed_sections": [],
   "name": "1_SpeakerRecognition_DataPrep.ipynb",
   "provenance": []
  },
  "kernelspec": {
   "display_name": "Python 3",
   "language": "python",
   "name": "python3"
  },
  "language_info": {
   "codemirror_mode": {
    "name": "ipython",
    "version": 3
   },
   "file_extension": ".py",
   "mimetype": "text/x-python",
   "name": "python",
   "nbconvert_exporter": "python",
   "pygments_lexer": "ipython3",
   "version": "3.7.3"
  },
  "toc": {
   "base_numbering": 1,
   "nav_menu": {},
   "number_sections": true,
   "sideBar": true,
   "skip_h1_title": false,
   "title_cell": "Table of Contents",
   "title_sidebar": "Contents",
   "toc_cell": false,
   "toc_position": {},
   "toc_section_display": true,
   "toc_window_display": false
  },
  "varInspector": {
   "cols": {
    "lenName": 16,
    "lenType": 16,
    "lenVar": 40
   },
   "kernels_config": {
    "python": {
     "delete_cmd_postfix": "",
     "delete_cmd_prefix": "del ",
     "library": "var_list.py",
     "varRefreshCmd": "print(var_dic_list())"
    },
    "r": {
     "delete_cmd_postfix": ") ",
     "delete_cmd_prefix": "rm(",
     "library": "var_list.r",
     "varRefreshCmd": "cat(var_dic_list()) "
    }
   },
   "types_to_exclude": [
    "module",
    "function",
    "builtin_function_or_method",
    "instance",
    "_Feature"
   ],
   "window_display": false
  }
 },
 "nbformat": 4,
 "nbformat_minor": 1
}
